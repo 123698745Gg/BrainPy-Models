{
 "cells": [
  {
   "cell_type": "markdown",
   "metadata": {},
   "source": [
    "# _(Brunel & Hakim, 1999)_ Fast Global Oscillation"
   ]
  },
  {
   "cell_type": "markdown",
   "metadata": {},
   "source": [
    "Implementation of the paper:\n",
    "\n",
    "- Brunel, Nicolas, and Vincent Hakim. \"Fast global oscillations in networks of integrate-and-fire neurons with low firing rates.\" Neural computation 11.7 (1999): 1621-1671."
   ]
  },
  {
   "cell_type": "code",
   "execution_count": 2,
   "metadata": {},
   "outputs": [],
   "source": [
    "import brainpy as bp\n",
    "import numpy as np\n",
    "\n",
    "bp.profile.set(jit=True)"
   ]
  },
  {
   "cell_type": "code",
   "execution_count": 3,
   "metadata": {},
   "outputs": [],
   "source": [
    "Vr = 10.  # mV\n",
    "theta = 20.  # mV\n",
    "tau = 20.  # ms\n",
    "delta = 2.  # ms\n",
    "taurefr = 2.  # ms\n",
    "duration = 100.  # ms\n",
    "J = .1  # mV\n",
    "muext = 25.  # mV\n",
    "sigmaext = 1.  # mV\n",
    "C = 1000\n",
    "N = 5000\n",
    "sparseness = float(C) / N"
   ]
  },
  {
   "cell_type": "code",
   "execution_count": 4,
   "metadata": {},
   "outputs": [],
   "source": [
    "@bp.integrate\n",
    "def int_v(V, t):\n",
    "    return (-V + muext) / tau, sigmaext / np.sqrt(tau)\n",
    "\n",
    "\n",
    "def neu_update(ST, _t):\n",
    "    ST['spike'] = 0.\n",
    "    ST['not_ref'] = 0.\n",
    "    if (_t - ST['t_last_spike']) > taurefr:\n",
    "        V = int_v(ST['V'], _t)\n",
    "        if V > theta:\n",
    "            ST['spike'] = 1.\n",
    "            ST['V'] = Vr\n",
    "            ST['t_last_spike'] = _t\n",
    "        else:\n",
    "            ST['V'] = V\n",
    "            ST['not_ref'] = 1.\n",
    "\n",
    "\n",
    "lif = bp.NeuType(name='lif',\n",
    "                 ST=bp.NeuState('spike', V=Vr, t_last_spike=-1e7, not_ref=1.),\n",
    "                 steps=neu_update,\n",
    "                 mode='scalar')"
   ]
  },
  {
   "cell_type": "code",
   "execution_count": 5,
   "metadata": {},
   "outputs": [],
   "source": [
    "def syn_update(ST, pre):\n",
    "    if pre['spike']:\n",
    "        ST['g'] = J\n",
    "    else:\n",
    "        ST['g'] = 0.\n",
    "\n",
    "\n",
    "@bp.delayed\n",
    "def syn_output(ST, post):\n",
    "    if post['not_ref']:\n",
    "        post['V'] -= ST['g']\n",
    "\n",
    "\n",
    "syn = bp.SynType(name='syn', ST=bp.SynState(['g']),\n",
    "                 steps=(syn_update, syn_output),\n",
    "                 mode='scalar')"
   ]
  },
  {
   "cell_type": "code",
   "execution_count": 6,
   "metadata": {},
   "outputs": [
    {
     "name": "stdout",
     "output_type": "stream",
     "text": [
      "Compilation used 0.6021 s.\n",
      "Start running ...\n",
      "Run 10.0% used 1.641 s.\n",
      "Run 20.0% used 3.229 s.\n",
      "Run 30.0% used 4.802 s.\n",
      "Run 40.0% used 6.398 s.\n",
      "Run 50.0% used 7.984 s.\n",
      "Run 60.0% used 9.564 s.\n",
      "Run 70.0% used 11.170 s.\n",
      "Run 80.0% used 12.753 s.\n",
      "Run 90.0% used 14.351 s.\n",
      "Run 100.0% used 15.917 s.\n",
      "Simulation is done in 15.917 s.\n"
     ]
    }
   ],
   "source": [
    "group = bp.NeuGroup(lif, geometry=N, monitors=['spike', 'V'])\n",
    "conn = bp.SynConn(syn, pre_group=group, post_group=group,\n",
    "                  conn=bp.connect.FixedProb(sparseness),\n",
    "                  delay=delta)\n",
    "net = bp.Network(group, conn)\n",
    "net.run(duration, report=True)"
   ]
  },
  {
   "cell_type": "code",
   "execution_count": 7,
   "metadata": {},
   "outputs": [
    {
     "data": {
      "image/png": "[encoded data removed]",
      "text/plain": [
       "<Figure size 432x288 with 1 Axes>"
      ]
     },
     "metadata": {
      "needs_background": "light"
     },
     "output_type": "display_data"
    }
   ],
   "source": [
    "bp.visualize.raster_plot(net.ts, group.mon.spike, xlim=(0, duration), show=True)"
   ]
  }
 ],
 "metadata": {
  "kernelspec": {
   "display_name": "Python 3",
   "language": "python",
   "name": "python3"
  },
  "language_info": {
   "codemirror_mode": {
    "name": "ipython",
    "version": 3
   },
   "file_extension": ".py",
   "mimetype": "text/x-python",
   "name": "python",
   "nbconvert_exporter": "python",
   "pygments_lexer": "ipython3",
   "version": "3.7.7"
  },
  "toc": {
   "base_numbering": 1,
   "nav_menu": {},
   "number_sections": false,
   "sideBar": true,
   "skip_h1_title": false,
   "title_cell": "Table of Contents",
   "title_sidebar": "Contents",
   "toc_cell": false,
   "toc_position": {},
   "toc_section_display": true,
   "toc_window_display": false
  }
 },
 "nbformat": 4,
 "nbformat_minor": 4
}
