{
 "cells": [
  {
   "cell_type": "markdown",
   "metadata": {},
   "source": [
    "# _(Diesmann, 1999)_ Synfire Chains"
   ]
  },
  {
   "cell_type": "markdown",
   "metadata": {},
   "source": [
    "Implementation of the paper:\n",
    "\n",
    "- Diesmann, Markus, Marc-Oliver Gewaltig, and Ad Aertsen. \"Stable propagation of synchronous spiking in cortical neural networks.\" Nature 402.6761 (1999): 529-533."
   ]
  },
  {
   "cell_type": "code",
   "execution_count": 2,
   "metadata": {
    "ExecuteTime": {
     "end_time": "2021-01-08T15:57:12.796705Z",
     "start_time": "2021-01-08T15:57:10.600522Z"
    }
   },
   "outputs": [],
   "source": [
    "import numpy as np\n",
    "import brainpy as bp\n",
    "\n",
    "bp.profile.set(jit=True)"
   ]
  },
  {
   "cell_type": "code",
   "execution_count": 3,
   "metadata": {
    "ExecuteTime": {
     "end_time": "2021-01-08T15:57:25.051863Z",
     "start_time": "2021-01-08T15:57:25.045884Z"
    }
   },
   "outputs": [],
   "source": [
    "duration = 100.  # ms\n",
    "\n",
    "# Neuron model parameters\n",
    "Vr = -70.  # mV\n",
    "Vt = -55.  # mV\n",
    "tau_m = 10.  # ms\n",
    "tau_ref = 1.  # ms\n",
    "tau_psp = 0.325  # ms\n",
    "weight = 4.86  # mV\n",
    "noise = 39.24  # mV\n",
    "\n",
    "# Neuron groups\n",
    "n_groups = 10\n",
    "group_size = 100\n",
    "spike_sigma = 1."
   ]
  },
  {
   "cell_type": "code",
   "execution_count": 4,
   "metadata": {
    "ExecuteTime": {
     "end_time": "2021-01-08T15:57:37.715853Z",
     "start_time": "2021-01-08T15:57:37.699896Z"
    }
   },
   "outputs": [],
   "source": [
    "# neuron model\n",
    "# ------------\n",
    "\n",
    "\n",
    "class Groups(bp.NeuGroup):\n",
    "    def __init__(self, num):\n",
    "        @bp.integrate\n",
    "        def int_V(V, t, x):\n",
    "            return (-(V - Vr) + x) / tau_m\n",
    "\n",
    "        @bp.integrate\n",
    "        def int_x(x, t, y):\n",
    "            return (-x + y) / tau_psp\n",
    "\n",
    "        @bp.integrate\n",
    "        def int_y(y, t):\n",
    "            df = -y / tau_psp + 25.27\n",
    "            dg = noise\n",
    "            return df, dg\n",
    "\n",
    "        def neu_update(ST, _t, ):\n",
    "            ST['x'] = int_x(ST['x'], _t, ST['y'])\n",
    "            ST['y'] = int_y(ST['y'], _t)\n",
    "            ST['spike'] = 0.\n",
    "            ST['not_ref'] = 0.\n",
    "            if _t - ST['t_last_spike'] >= tau_ref:\n",
    "                V = int_V(ST['V'], _t, ST['x'])\n",
    "                if V > Vt:\n",
    "                    ST['spike'] = 1.\n",
    "                    ST['t_last_spike'] = _t\n",
    "                    ST['V'] = Vr\n",
    "                else:\n",
    "                    ST['V'] = V\n",
    "                    ST['not_ref'] = 1.\n",
    "\n",
    "        neu_state = bp.NeuState('V', 'x', 'y', 'spike', 'not_ref', t_last_spike=-1e7)\n",
    "\n",
    "        neuron = bp.NeuType(name='neuron', ST=neu_state, steps=neu_update, mode='scalar')\n",
    "\n",
    "        super(Groups, self).__init__(model=neuron, geometry=num, monitors=['spike'])\n",
    "\n",
    "        self.ST['V'] = Vr + np.random.random(num) * (Vt - Vr)"
   ]
  },
  {
   "cell_type": "code",
   "execution_count": 5,
   "metadata": {
    "ExecuteTime": {
     "end_time": "2021-01-08T15:58:08.470358Z",
     "start_time": "2021-01-08T15:58:08.456396Z"
    }
   },
   "outputs": [],
   "source": [
    "# synaptic  model\n",
    "# ---------------\n",
    "\n",
    "class SynBetweenGroups(bp.SynConn):\n",
    "    def __init__(self, group, ext_group):\n",
    "        # step 1: define the all2all connectivity\n",
    "        mat1 = np.ones((ext_group.num, group_size))\n",
    "        mat2 = np.ones((group_size, group_size))\n",
    "\n",
    "        # step 2: define the synaptic computation logic\n",
    "\n",
    "        def update(pre, post, ext):\n",
    "            # synapse model between external and group 1\n",
    "            end = group_size\n",
    "            post['y'][:end] += weight * np.dot(ext['spike'], mat1)\n",
    "\n",
    "            # feed-forward connection\n",
    "            for i in range(1, n_groups):\n",
    "                s1 = (i - 1) * group_size\n",
    "                s2 = i * group_size\n",
    "                s3 = (i + 1) * group_size\n",
    "                post['y'][s2: s3] += weight * np.dot(pre['spike'][s1: s2], mat2)\n",
    "\n",
    "        model = bp.SynType(name='syn', ST=bp.SynState(), steps=update)\n",
    "\n",
    "        # step 3: initialize the synaptic connection\n",
    "        super(SynBetweenGroups, self).__init__(model=model,\n",
    "                                               # SynConn needs \"num\" to initialize\n",
    "                                               satisfies={'num': 1})\n",
    "\n",
    "        # step 4: assign the needed data\n",
    "        self.pre = group.ST\n",
    "        self.post = group.ST\n",
    "        self.ext = ext_group.ST"
   ]
  },
  {
   "cell_type": "code",
   "execution_count": 6,
   "metadata": {
    "ExecuteTime": {
     "end_time": "2021-01-08T15:58:26.808883Z",
     "start_time": "2021-01-08T15:58:26.799910Z"
    }
   },
   "outputs": [],
   "source": [
    "# network running\n",
    "# ---------------\n",
    "\n",
    "def run_network(spike_num=48):\n",
    "    ext_group = bp.inputs.SpikeTimeInput(spike_num,\n",
    "                                         times=np.random.randn(spike_num) * spike_sigma + 50,\n",
    "                                         indices=np.arange(spike_num))\n",
    "    group = Groups(num=n_groups * group_size)\n",
    "    syn_conn = SynBetweenGroups(group, ext_group)\n",
    "\n",
    "    net = bp.Network(group, ext_group, syn_conn)\n",
    "    net.run(duration, report=True)\n",
    "\n",
    "    bp.visualize.raster_plot(net.ts, group.mon.spike, xlim=(0, duration), show=True)\n"
   ]
  },
  {
   "cell_type": "markdown",
   "metadata": {},
   "source": [
    "When external spike num is 51, there exists \"synfire chain\"."
   ]
  },
  {
   "cell_type": "code",
   "execution_count": 7,
   "metadata": {
    "ExecuteTime": {
     "end_time": "2021-01-08T15:59:11.502480Z",
     "start_time": "2021-01-08T15:59:09.079794Z"
    }
   },
   "outputs": [
    {
     "name": "stdout",
     "output_type": "stream",
     "text": [
      "Compilation used 2.0299 s.\n",
      "Start running ...\n",
      "Run 10.0% used 0.007 s.\n",
      "Run 20.0% used 0.013 s.\n",
      "Run 30.0% used 0.022 s.\n",
      "Run 40.0% used 0.029 s.\n",
      "Run 50.0% used 0.037 s.\n",
      "Run 60.0% used 0.044 s.\n",
      "Run 70.0% used 0.053 s.\n",
      "Run 80.0% used 0.060 s.\n",
      "Run 90.0% used 0.068 s.\n",
      "Run 100.0% used 0.075 s.\n",
      "Simulation is done in 0.075 s.\n"
     ]
    },
    {
     "data": {
      "image/png": "[encoded data removed]",
      "text/plain": [
       "<Figure size 432x288 with 1 Axes>"
      ]
     },
     "metadata": {
      "needs_background": "light"
     },
     "output_type": "display_data"
    }
   ],
   "source": [
    "run_network(spike_num=51)"
   ]
  },
  {
   "cell_type": "markdown",
   "metadata": {},
   "source": [
    "When external spike num is 46, the synchronous excitation disperses and eventually dies out."
   ]
  },
  {
   "cell_type": "code",
   "execution_count": 10,
   "metadata": {
    "ExecuteTime": {
     "end_time": "2021-01-08T15:59:27.385972Z",
     "start_time": "2021-01-08T15:59:25.738363Z"
    }
   },
   "outputs": [
    {
     "name": "stdout",
     "output_type": "stream",
     "text": [
      "Compilation used 1.3763 s.\n",
      "Start running ...\n",
      "Run 10.0% used 0.006 s.\n",
      "Run 20.0% used 0.013 s.\n",
      "Run 30.0% used 0.020 s.\n",
      "Run 40.0% used 0.027 s.\n",
      "Run 50.0% used 0.034 s.\n",
      "Run 60.0% used 0.041 s.\n",
      "Run 70.0% used 0.048 s.\n",
      "Run 80.0% used 0.055 s.\n",
      "Run 90.0% used 0.062 s.\n",
      "Run 100.0% used 0.069 s.\n",
      "Simulation is done in 0.069 s.\n"
     ]
    },
    {
     "data": {
      "image/png": "[encoded data removed]",
      "text/plain": [
       "<Figure size 432x288 with 1 Axes>"
      ]
     },
     "metadata": {
      "needs_background": "light"
     },
     "output_type": "display_data"
    }
   ],
   "source": [
    "run_network(spike_num=46)"
   ]
  }
 ],
 "metadata": {
  "hide_input": false,
  "kernelspec": {
   "display_name": "Python 3",
   "language": "python",
   "name": "python3"
  },
  "language_info": {
   "codemirror_mode": {
    "name": "ipython",
    "version": 3
   },
   "file_extension": ".py",
   "mimetype": "text/x-python",
   "name": "python",
   "nbconvert_exporter": "python",
   "pygments_lexer": "ipython3",
   "version": "3.8.5"
  },
  "toc": {
   "base_numbering": 1,
   "nav_menu": {},
   "number_sections": false,
   "sideBar": true,
   "skip_h1_title": false,
   "title_cell": "Table of Contents",
   "title_sidebar": "Contents",
   "toc_cell": false,
   "toc_position": {},
   "toc_section_display": true,
   "toc_window_display": false
  },
  "varInspector": {
   "cols": {
    "lenName": 16,
    "lenType": 16,
    "lenVar": 40
   },
   "kernels_config": {
    "python": {
     "delete_cmd_postfix": "",
     "delete_cmd_prefix": "del ",
     "library": "var_list.py",
     "varRefreshCmd": "print(var_dic_list())"
    },
    "r": {
     "delete_cmd_postfix": ") ",
     "delete_cmd_prefix": "rm(",
     "library": "var_list.r",
     "varRefreshCmd": "cat(var_dic_list()) "
    }
   },
   "types_to_exclude": [
    "module",
    "function",
    "builtin_function_or_method",
    "instance",
    "_Feature"
   ],
   "window_display": false
  }
 },
 "nbformat": 4,
 "nbformat_minor": 4
}
