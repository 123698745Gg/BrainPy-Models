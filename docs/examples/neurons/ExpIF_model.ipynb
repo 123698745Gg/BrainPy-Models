version https://git-lfs.github.com/spec/v1
oid sha256:ea3f52f923e466a0cefb3fd41987a00851ccd297a8f3779683bef3a2a4afc7ed
size 63897
