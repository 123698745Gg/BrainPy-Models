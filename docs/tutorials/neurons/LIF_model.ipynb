version https://git-lfs.github.com/spec/v1
oid sha256:c260c1088ddbdd4ac8a4a734605d3d68acab3357c03f350db0dce5ce2189bcb7
size 184499
