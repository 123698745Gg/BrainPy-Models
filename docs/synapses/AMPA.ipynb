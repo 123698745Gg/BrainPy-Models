{
 "cells": [
  {
   "cell_type": "markdown",
   "metadata": {},
   "source": [
    "# AMPA synapse model"
   ]
  },
  {
   "cell_type": "markdown",
   "metadata": {},
   "source": [
    "## model overview"
   ]
  },
  {
   "cell_type": "markdown",
   "metadata": {},
   "source": [
    "AMPA receptor is an ionotropic receptor of neurotransmitter `Glutamate`. After being bound by Glutamate, it opens the sodium and potassium ion channels and induce postsynaptic current.\n",
    "\n",
    "AMPA receptor plays important role in long-term potentiation.\n",
    "\n",
    "This synapse model describes the transmitter-activated ion channel with synaptic conductance $g_{syn}(t)$."
   ]
  },
  {
   "cell_type": "markdown",
   "metadata": {},
   "source": [
    "## Implementation"
   ]
  },
  {
   "cell_type": "markdown",
   "metadata": {},
   "source": [
    "Our implementation is based on BrainPy framework."
   ]
  },
  {
   "cell_type": "code",
   "execution_count": 1,
   "metadata": {},
   "outputs": [],
   "source": [
    "import brainpy as bp\n",
    "from brainpy import numpy as np"
   ]
  },
  {
   "cell_type": "markdown",
   "metadata": {},
   "source": [
    "A synapse model include two neuron models and a synapse, we will import the LIF neuron model first."
   ]
  },
  {
   "cell_type": "code",
   "execution_count": 2,
   "metadata": {},
   "outputs": [],
   "source": [
    "#from examples.neurons.LIF_model import LIF\n",
    "\n",
    "def define_LIF(tau=10., Vr=0., Vth=10., noise=0., ref=0.):\n",
    "    \"\"\"Leaky integrate-and-fire neuron model.\n",
    "\n",
    "    Parameters\n",
    "    ----------\n",
    "    tau : float\n",
    "        Membrane time constants.\n",
    "    Vr : float\n",
    "        The reset potential.\n",
    "    Vth : float\n",
    "        The spike threshold.\n",
    "    noise : float, callable\n",
    "        The noise item.\n",
    "    ref : float\n",
    "        The refractory period.\n",
    "    \"\"\"\n",
    "\n",
    "    ST = bp.types.NeuState(\n",
    "        {'V': 0, 'sp_t': -1e7, 'sp': 0., 'inp': 0.},\n",
    "    )\n",
    "\n",
    "    @bp.integrate\n",
    "    def int_f(V, t, Isyn):\n",
    "        return (-V + Vr + Isyn) / tau, noise / tau\n",
    "\n",
    "    def update(ST, _t_):\n",
    "        if _t_ - ST['sp_t'] > ref:\n",
    "            V = int_f(ST['V'], _t_, ST['inp'])\n",
    "            if V >= Vth:\n",
    "                V = Vr\n",
    "                ST['sp_t'] = _t_\n",
    "                ST['sp'] = True\n",
    "            ST['V'] = V\n",
    "        else:\n",
    "            ST['sp'] = False\n",
    "        ST['inp'] = 0.\n",
    "\n",
    "    return bp.NeuType(name='LIF', requires=dict(ST=ST), steps=update, vector_based=False)"
   ]
  },
  {
   "cell_type": "markdown",
   "metadata": {},
   "source": [
    "Let's take a look at two types of AMPA receptors."
   ]
  },
  {
   "cell_type": "markdown",
   "metadata": {},
   "source": [
    "### AMPA 1"
   ]
  },
  {
   "cell_type": "markdown",
   "metadata": {},
   "source": [
    "Simple one?? Only one exponential decay.\n",
    "\n",
    "The synaptic current $I_{syn}$ is given by: \n",
    "\n",
    "$$I_{syn}= g_{syn} (V-E_{syn})$$\n",
    "\n",
    "where $V$ is the membrane potential (of the synaptic channel???).\n",
    "\n",
    "$$g_{syn} = \\bar{g}_{syn} s $$\n",
    "\n",
    "where $\\bar{g}_{syn}$ is the maximum synaptic conductance. The reversal potential $E_{syn}$ for AMPA receptor is $0$.\n",
    "\n",
    "$s$ is the gating variable representing the fraction of open synaptical channel, it's dynamic is given by:\n",
    "\n",
    "$$\\frac{d s}{d t}=-\\frac{s}{\\tau_{decay}}+\\sum_{k} \\delta(t-t_{j}^{k})$$\n",
    "\n",
    "where $\\tau_{decay}$ is around 2 to 5 ms."
   ]
  },
  {
   "cell_type": "code",
   "execution_count": 3,
   "metadata": {},
   "outputs": [],
   "source": [
    "E_SYN = 0.\n",
    "TAU = 2.\n",
    "\n",
    "def AMPA1(g_max=0.10, E=E_SYN, tau_decay=TAU):\n",
    "    \"\"\"AMPA conductance-based synapse (type 1).\n",
    "\n",
    "    Parameters\n",
    "    ----------\n",
    "    g_max : float\n",
    "        Maximum conductance.\n",
    "    E : float\n",
    "        Reversal potential.\n",
    "    tau_decay : float\n",
    "        Tau for decay.\n",
    "    \"\"\"\n",
    "\n",
    "    requires = dict(\n",
    "        ST=bp.types.SynState(['s'], help='AMPA synapse state.'),\n",
    "        pre=bp.types.NeuState(['sp'], help='Pre-synaptic neuron state must have \"sp\" item.'),\n",
    "        post=bp.types.NeuState(['V', 'inp'], help='Pre-synaptic neuron state must have \"V\" and \"inp\" item.'),\n",
    "    )\n",
    "\n",
    "    @bp.integrate\n",
    "    def ints(s, t):\n",
    "        return - s / tau_decay\n",
    "\n",
    "    def update(ST, _t_, pre):\n",
    "        s = ints(ST['s'], _t_)\n",
    "        s += pre['sp']\n",
    "        ST['s'] = s\n",
    "\n",
    "    @bp.delayed\n",
    "    def output(ST, post):\n",
    "        post_val = - g_max * ST['s'] * (post['V'] - E)\n",
    "        post['inp'] += post_val\n",
    "\n",
    "    return bp.SynType(name='AMPA', requires=requires, steps=(update, output), vector_based=False)\n"
   ]
  },
  {
   "cell_type": "markdown",
   "metadata": {},
   "source": [
    "### AMPA 2"
   ]
  },
  {
   "cell_type": "markdown",
   "metadata": {},
   "source": [
    "We can also make a model which has the flavor of a Hodgkin-Huxley channel.\n",
    "\n",
    "The synaptic current is given by:\n",
    "\n",
    "$$ I_{syn}=\\bar{g}_{syn} s (V-E_{syn}) $$\n",
    "\n",
    "where the dynamics of gating variable $s$ is given by:\n",
    "\n",
    "$$ \\frac{ds}{dt} =\\alpha[T](1-s)-\\beta s $$\n",
    "\n",
    "where $\\alpha$ and $\\beta$ are the binding constant and unbinding constant, respectively; $[T]$ is the neurotransmitter that channels open when neurotransmitter $[T]$ binds to the synapse."
   ]
  },
  {
   "cell_type": "code",
   "execution_count": 4,
   "metadata": {},
   "outputs": [],
   "source": [
    "def AMPA2(g_max=0.42, E=E_SYN, alpha=0.98, beta=0.18, T=0.5, T_duration=0.5):\n",
    "    \"\"\"AMPA conductance-based synapse (type 2).\n",
    "\n",
    "    Parameters\n",
    "    ----------\n",
    "    g_max : float\n",
    "        Maximum conductance.\n",
    "    E : float\n",
    "        Reversal potential.\n",
    "    alpha\n",
    "    beta\n",
    "    T\n",
    "    T_duration\n",
    "    \"\"\"\n",
    "\n",
    "    requires = {\n",
    "        'ST': bp.types.SynState({'s': 0., 'sp_t': -1e7},\n",
    "                                help=\"\"\" \"s\": Synaptic state.\n",
    "                                    \"sp_t\": Pre-synaptic neuron spike time.\n",
    "                                \"\"\"),\n",
    "        'pre': bp.types.NeuState(['sp'], help='Pre-synaptic neuron state must have \"sp\" item.'),\n",
    "        'post': bp.types.NeuState(['V', 'inp'], help='Pre-synaptic neuron state must have \"V\" and \"inp\" item.'),\n",
    "    }\n",
    "\n",
    "    @bp.integrate\n",
    "    def int_s(s, t, TT):\n",
    "        return alpha * TT * (1 - s) - beta * s\n",
    "\n",
    "    def update(ST, _t_, pre):\n",
    "        if pre['sp'] > 0.:\n",
    "            ST['sp_t'] = _t_\n",
    "        TT = ((_t_ - ST['sp_t']) < T_duration) * T\n",
    "        s = np.clip(int_s(ST['s'], _t_, TT), 0., 1.)\n",
    "        ST['s'] = s\n",
    "\n",
    "    @bp.delayed\n",
    "    def output(ST, post):\n",
    "        post_val = - g_max * ST['s'] * (post['V'] - E)\n",
    "        post['inp'] += post_val\n",
    "\n",
    "    return bp.SynType(name='AMPA', requires=requires, steps=(update, output), vector_based=False)\n"
   ]
  },
  {
   "cell_type": "markdown",
   "metadata": {},
   "source": [
    "### Simulation"
   ]
  },
  {
   "cell_type": "markdown",
   "metadata": {},
   "source": [
    "Let's define a function to simulate the progress of pre->ampa->post.\n",
    "\n",
    "We'll apply the current to the synapse (inject action potential to the presynaptic neuron by give input to `'pre.sp'`??)"
   ]
  },
  {
   "cell_type": "code",
   "execution_count": 5,
   "metadata": {},
   "outputs": [],
   "source": [
    "import matplotlib.pyplot as plt\n",
    "\n",
    "def run_ampa_single(cls, duration=350.):\n",
    "    LIF = define_LIF()\n",
    "    pre = bp.NeuGroup(LIF, 2, monitors=['sp','V'])\n",
    "    post = bp.NeuGroup(LIF, 3, monitors=['sp','V'])\n",
    "    ampa = bp.SynConn(model=cls, pre_group=pre, post_group=post, conn=bp.connect.All2All(),\n",
    "                      monitors=['s'], delay=10.)\n",
    "\n",
    "    # set ampa behaviour\n",
    "    ampa.runner.set_schedule(['input', 'update', 'output', 'monitor'])\n",
    "\n",
    "    # build network connection (pre-> ampa-> post)\n",
    "    net = bp.Network(pre, ampa, post)\n",
    "    \n",
    "    # get input current\n",
    "    Iext = bp.inputs.spike_current([10, 110, 210, 310, 410], bp.profile._dt, 1., duration=duration)\n",
    "    \n",
    "    # run simulation\n",
    "    net.run(duration, inputs=(ampa, 'pre.sp', Iext, '='), report=False)\n",
    "\n",
    "    # visualization\n",
    "    fig, gs = bp.visualize.get_figure(2, 1, 5, 6)\n",
    "    \n",
    "    # pre and post V\n",
    "    fig.add_subplot(gs[0, 0])\n",
    "    plt.plot(net.ts, pre.mon.V[:, 0], label='pre_V')\n",
    "    plt.plot(net.ts, post.mon.V[:, 0], label='post_V')\n",
    "    plt.ylabel('Membrane potential (mV)')\n",
    "    plt.xlabel('Time (ms)')\n",
    "    plt.title('pre and post spiking')\n",
    "    plt.legend()\n",
    "    \n",
    "    # synapse\n",
    "    fig.add_subplot(gs[1, 0])\n",
    "    plt.plot(net.ts, ampa.mon.s[:, 0], label='s')\n",
    "    plt.ylabel('gating variable')\n",
    "    plt.xlabel('Time (ms)')\n",
    "    plt.title('synapse dynamics')\n",
    "    plt.legend()\n",
    "    plt.show()"
   ]
  },
  {
   "cell_type": "markdown",
   "metadata": {},
   "source": [
    "Run simulation for AMPA1"
   ]
  },
  {
   "cell_type": "code",
   "execution_count": 6,
   "metadata": {},
   "outputs": [
    {
     "data": {
      "image/png": "[encoded data removed]",
      "text/plain": [
       "<Figure size 432x720 with 2 Axes>"
      ]
     },
     "metadata": {
      "needs_background": "light"
     },
     "output_type": "display_data"
    }
   ],
   "source": [
    "#nb.profile.set(backend='numpy', merge_ing=True, dt=0.1)\n",
    "\n",
    "run_ampa_single(AMPA1())"
   ]
  },
  {
   "cell_type": "markdown",
   "metadata": {},
   "source": [
    "Run simulation for AMPA1"
   ]
  },
  {
   "cell_type": "code",
   "execution_count": 7,
   "metadata": {},
   "outputs": [
    {
     "data": {
      "image/png": "[encoded data removed]",
      "text/plain": [
       "<Figure size 432x720 with 2 Axes>"
      ]
     },
     "metadata": {
      "needs_background": "light"
     },
     "output_type": "display_data"
    }
   ],
   "source": [
    "run_ampa_single(AMPA2())"
   ]
  },
  {
   "cell_type": "code",
   "execution_count": null,
   "metadata": {},
   "outputs": [],
   "source": []
  }
 ],
 "metadata": {
  "kernelspec": {
   "display_name": "Python 3",
   "language": "python",
   "name": "python3"
  },
  "language_info": {
   "codemirror_mode": {
    "name": "ipython",
    "version": 3
   },
   "file_extension": ".py",
   "mimetype": "text/x-python",
   "name": "python",
   "nbconvert_exporter": "python",
   "pygments_lexer": "ipython3",
   "version": "3.7.6"
  }
 },
 "nbformat": 4,
 "nbformat_minor": 4
}
